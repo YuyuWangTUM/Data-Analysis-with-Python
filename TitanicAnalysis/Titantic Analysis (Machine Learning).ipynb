{
 "cells": [
  {
   "cell_type": "markdown",
   "id": "0b38e6c2",
   "metadata": {},
   "source": [
    "# Titanic Analysis (Machine Learning)  \n",
    "Data source: https://www.kaggle.com/competitions/titanic/data"
   ]
  },
  {
   "cell_type": "markdown",
   "id": "e5af4339",
   "metadata": {},
   "source": [
    "<u> 1. Import packages and read data. </u>"
   ]
  },
  {
   "cell_type": "code",
   "execution_count": 1,
   "id": "8b509f1c",
   "metadata": {},
   "outputs": [],
   "source": [
    "import numpy as np\n",
    "import pandas as pd\n",
    "from sklearn.model_selection import train_test_split\n",
    "from sklearn.ensemble import RandomForestClassifier\n",
    "from sklearn.metrics import confusion_matrix\n",
    "\n",
    "train_data = pd.read_csv('titanic_data//train.csv')"
   ]
  },
  {
   "cell_type": "markdown",
   "id": "77c5fcd8",
   "metadata": {},
   "source": [
    "<u> 2. Random forest. </u>"
   ]
  },
  {
   "cell_type": "code",
   "execution_count": 2,
   "id": "dec2ef5a",
   "metadata": {},
   "outputs": [],
   "source": [
    "X = train_data.drop(['PassengerId', 'Name', 'Ticket', 'Cabin', 'Survived', 'Embarked'], axis=1)\n",
    "X.replace({'Sex': {'male':1, 'female':0}}, inplace=True)\n",
    "X.fillna(X.median(), inplace=True)\n",
    "y = train_data['Survived']"
   ]
  },
  {
   "cell_type": "code",
   "execution_count": 3,
   "id": "cdae3762",
   "metadata": {},
   "outputs": [],
   "source": [
    "X_train, X_test, y_train, y_test = train_test_split(X, y, test_size=0.2, random_state=2022)"
   ]
  },
  {
   "cell_type": "code",
   "execution_count": 4,
   "id": "ed6bd6cd",
   "metadata": {},
   "outputs": [],
   "source": [
    "clf = RandomForestClassifier(max_depth=3, random_state=0)\n",
    "clf.fit(X_train, y_train)\n",
    "y_pred = clf.predict(X_test)"
   ]
  },
  {
   "cell_type": "code",
   "execution_count": 5,
   "id": "a5e50730",
   "metadata": {},
   "outputs": [
    {
     "name": "stdout",
     "output_type": "stream",
     "text": [
      "[[107   7]\n",
      " [ 33  32]]\n"
     ]
    }
   ],
   "source": [
    "print(confusion_matrix(y_test, y_pred))"
   ]
  },
  {
   "cell_type": "code",
   "execution_count": null,
   "id": "1a8cadb4",
   "metadata": {},
   "outputs": [],
   "source": []
  }
 ],
 "metadata": {
  "kernelspec": {
   "display_name": "Python 3",
   "language": "python",
   "name": "python3"
  },
  "language_info": {
   "codemirror_mode": {
    "name": "ipython",
    "version": 3
   },
   "file_extension": ".py",
   "mimetype": "text/x-python",
   "name": "python",
   "nbconvert_exporter": "python",
   "pygments_lexer": "ipython3",
   "version": "3.8.8"
  }
 },
 "nbformat": 4,
 "nbformat_minor": 5
}
