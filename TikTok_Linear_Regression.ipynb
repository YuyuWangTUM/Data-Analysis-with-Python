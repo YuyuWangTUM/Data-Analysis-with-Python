{
 "cells": [
  {
   "cell_type": "markdown",
   "id": "945b68c9",
   "metadata": {},
   "source": [
    "<u> Data source: https://www.kaggle.com/datasets/sveta151/tiktok-popular-songs-2022 </u>"
   ]
  },
  {
   "cell_type": "code",
   "execution_count": 1,
   "id": "5d285dc2",
   "metadata": {},
   "outputs": [],
   "source": [
    "import pandas as pd\n",
    "from sklearn.linear_model import LinearRegression\n",
    "import matplotlib.pyplot as plt\n",
    "import seaborn as sns\n",
    "import numpy as np"
   ]
  },
  {
   "cell_type": "code",
   "execution_count": 2,
   "id": "2bc79ea4",
   "metadata": {},
   "outputs": [],
   "source": [
    "data = pd.read_csv('TikTok_songs_2022.csv')"
   ]
  },
  {
   "cell_type": "code",
   "execution_count": 3,
   "id": "d8bef721",
   "metadata": {},
   "outputs": [
    {
     "data": {
      "text/html": [
       "<div>\n",
       "<style scoped>\n",
       "    .dataframe tbody tr th:only-of-type {\n",
       "        vertical-align: middle;\n",
       "    }\n",
       "\n",
       "    .dataframe tbody tr th {\n",
       "        vertical-align: top;\n",
       "    }\n",
       "\n",
       "    .dataframe thead th {\n",
       "        text-align: right;\n",
       "    }\n",
       "</style>\n",
       "<table border=\"1\" class=\"dataframe\">\n",
       "  <thead>\n",
       "    <tr style=\"text-align: right;\">\n",
       "      <th></th>\n",
       "      <th>track_name</th>\n",
       "      <th>artist_name</th>\n",
       "      <th>artist_pop</th>\n",
       "      <th>album</th>\n",
       "      <th>track_pop</th>\n",
       "      <th>danceability</th>\n",
       "      <th>energy</th>\n",
       "      <th>loudness</th>\n",
       "      <th>mode</th>\n",
       "      <th>key</th>\n",
       "      <th>speechiness</th>\n",
       "      <th>acousticness</th>\n",
       "      <th>instrumentalness</th>\n",
       "      <th>liveness</th>\n",
       "      <th>valence</th>\n",
       "      <th>tempo</th>\n",
       "      <th>time_signature</th>\n",
       "      <th>duration_ms</th>\n",
       "    </tr>\n",
       "  </thead>\n",
       "  <tbody>\n",
       "    <tr>\n",
       "      <th>0</th>\n",
       "      <td>Running Up That Hill (A Deal With God)</td>\n",
       "      <td>Kate Bush</td>\n",
       "      <td>81</td>\n",
       "      <td>Hounds Of Love</td>\n",
       "      <td>95</td>\n",
       "      <td>0.629</td>\n",
       "      <td>0.547</td>\n",
       "      <td>-13.123</td>\n",
       "      <td>0</td>\n",
       "      <td>10</td>\n",
       "      <td>0.0550</td>\n",
       "      <td>0.720000</td>\n",
       "      <td>0.003140</td>\n",
       "      <td>0.0604</td>\n",
       "      <td>0.197</td>\n",
       "      <td>108.375</td>\n",
       "      <td>4</td>\n",
       "      <td>298933</td>\n",
       "    </tr>\n",
       "    <tr>\n",
       "      <th>1</th>\n",
       "      <td>As It Was</td>\n",
       "      <td>Harry Styles</td>\n",
       "      <td>91</td>\n",
       "      <td>As It Was</td>\n",
       "      <td>96</td>\n",
       "      <td>0.520</td>\n",
       "      <td>0.731</td>\n",
       "      <td>-5.338</td>\n",
       "      <td>0</td>\n",
       "      <td>6</td>\n",
       "      <td>0.0557</td>\n",
       "      <td>0.342000</td>\n",
       "      <td>0.001010</td>\n",
       "      <td>0.3110</td>\n",
       "      <td>0.662</td>\n",
       "      <td>173.930</td>\n",
       "      <td>4</td>\n",
       "      <td>167303</td>\n",
       "    </tr>\n",
       "    <tr>\n",
       "      <th>2</th>\n",
       "      <td>Sunroof</td>\n",
       "      <td>Nicky Youre</td>\n",
       "      <td>73</td>\n",
       "      <td>Sunroof</td>\n",
       "      <td>44</td>\n",
       "      <td>0.768</td>\n",
       "      <td>0.716</td>\n",
       "      <td>-5.110</td>\n",
       "      <td>1</td>\n",
       "      <td>10</td>\n",
       "      <td>0.0404</td>\n",
       "      <td>0.350000</td>\n",
       "      <td>0.000000</td>\n",
       "      <td>0.1500</td>\n",
       "      <td>0.841</td>\n",
       "      <td>131.430</td>\n",
       "      <td>4</td>\n",
       "      <td>163026</td>\n",
       "    </tr>\n",
       "    <tr>\n",
       "      <th>3</th>\n",
       "      <td>Heat Waves</td>\n",
       "      <td>Glass Animals</td>\n",
       "      <td>80</td>\n",
       "      <td>Dreamland (+ Bonus Levels)</td>\n",
       "      <td>89</td>\n",
       "      <td>0.761</td>\n",
       "      <td>0.525</td>\n",
       "      <td>-6.900</td>\n",
       "      <td>1</td>\n",
       "      <td>11</td>\n",
       "      <td>0.0944</td>\n",
       "      <td>0.440000</td>\n",
       "      <td>0.000007</td>\n",
       "      <td>0.0921</td>\n",
       "      <td>0.531</td>\n",
       "      <td>80.870</td>\n",
       "      <td>4</td>\n",
       "      <td>238805</td>\n",
       "    </tr>\n",
       "    <tr>\n",
       "      <th>4</th>\n",
       "      <td>About Damn Time</td>\n",
       "      <td>Lizzo</td>\n",
       "      <td>81</td>\n",
       "      <td>About Damn Time</td>\n",
       "      <td>92</td>\n",
       "      <td>0.836</td>\n",
       "      <td>0.743</td>\n",
       "      <td>-6.305</td>\n",
       "      <td>0</td>\n",
       "      <td>10</td>\n",
       "      <td>0.0656</td>\n",
       "      <td>0.099500</td>\n",
       "      <td>0.000000</td>\n",
       "      <td>0.3350</td>\n",
       "      <td>0.722</td>\n",
       "      <td>108.966</td>\n",
       "      <td>4</td>\n",
       "      <td>191822</td>\n",
       "    </tr>\n",
       "    <tr>\n",
       "      <th>258</th>\n",
       "      <td>The Less I Know The Better</td>\n",
       "      <td>Tame Impala</td>\n",
       "      <td>78</td>\n",
       "      <td>Currents</td>\n",
       "      <td>84</td>\n",
       "      <td>0.640</td>\n",
       "      <td>0.740</td>\n",
       "      <td>-4.083</td>\n",
       "      <td>1</td>\n",
       "      <td>4</td>\n",
       "      <td>0.0284</td>\n",
       "      <td>0.011500</td>\n",
       "      <td>0.006780</td>\n",
       "      <td>0.1670</td>\n",
       "      <td>0.785</td>\n",
       "      <td>116.879</td>\n",
       "      <td>4</td>\n",
       "      <td>216320</td>\n",
       "    </tr>\n",
       "    <tr>\n",
       "      <th>259</th>\n",
       "      <td>Dandelions</td>\n",
       "      <td>Ruth B.</td>\n",
       "      <td>75</td>\n",
       "      <td>Safe Haven</td>\n",
       "      <td>90</td>\n",
       "      <td>0.609</td>\n",
       "      <td>0.692</td>\n",
       "      <td>-2.958</td>\n",
       "      <td>1</td>\n",
       "      <td>1</td>\n",
       "      <td>0.0259</td>\n",
       "      <td>0.015700</td>\n",
       "      <td>0.000000</td>\n",
       "      <td>0.0864</td>\n",
       "      <td>0.454</td>\n",
       "      <td>116.959</td>\n",
       "      <td>3</td>\n",
       "      <td>233720</td>\n",
       "    </tr>\n",
       "    <tr>\n",
       "      <th>260</th>\n",
       "      <td>Jimmy Cooks (feat. 21 Savage)</td>\n",
       "      <td>Drake</td>\n",
       "      <td>95</td>\n",
       "      <td>Honestly, Nevermind</td>\n",
       "      <td>92</td>\n",
       "      <td>0.529</td>\n",
       "      <td>0.673</td>\n",
       "      <td>-4.711</td>\n",
       "      <td>1</td>\n",
       "      <td>0</td>\n",
       "      <td>0.1750</td>\n",
       "      <td>0.000307</td>\n",
       "      <td>0.000002</td>\n",
       "      <td>0.0930</td>\n",
       "      <td>0.366</td>\n",
       "      <td>165.921</td>\n",
       "      <td>4</td>\n",
       "      <td>218365</td>\n",
       "    </tr>\n",
       "    <tr>\n",
       "      <th>261</th>\n",
       "      <td>Good Looking</td>\n",
       "      <td>Suki Waterhouse</td>\n",
       "      <td>64</td>\n",
       "      <td>Good Looking</td>\n",
       "      <td>80</td>\n",
       "      <td>0.377</td>\n",
       "      <td>0.558</td>\n",
       "      <td>-9.076</td>\n",
       "      <td>1</td>\n",
       "      <td>4</td>\n",
       "      <td>0.0299</td>\n",
       "      <td>0.078900</td>\n",
       "      <td>0.000342</td>\n",
       "      <td>0.1250</td>\n",
       "      <td>0.267</td>\n",
       "      <td>149.971</td>\n",
       "      <td>3</td>\n",
       "      <td>214800</td>\n",
       "    </tr>\n",
       "    <tr>\n",
       "      <th>262</th>\n",
       "      <td>INFERNO</td>\n",
       "      <td>Sub Urban</td>\n",
       "      <td>67</td>\n",
       "      <td>INFERNO</td>\n",
       "      <td>71</td>\n",
       "      <td>0.820</td>\n",
       "      <td>0.611</td>\n",
       "      <td>-5.020</td>\n",
       "      <td>0</td>\n",
       "      <td>9</td>\n",
       "      <td>0.1220</td>\n",
       "      <td>0.076600</td>\n",
       "      <td>0.000025</td>\n",
       "      <td>0.0684</td>\n",
       "      <td>0.637</td>\n",
       "      <td>127.883</td>\n",
       "      <td>4</td>\n",
       "      <td>133134</td>\n",
       "    </tr>\n",
       "  </tbody>\n",
       "</table>\n",
       "</div>"
      ],
      "text/plain": [
       "                                 track_name      artist_name  artist_pop  \\\n",
       "0    Running Up That Hill (A Deal With God)        Kate Bush          81   \n",
       "1                                 As It Was     Harry Styles          91   \n",
       "2                                   Sunroof      Nicky Youre          73   \n",
       "3                                Heat Waves    Glass Animals          80   \n",
       "4                           About Damn Time            Lizzo          81   \n",
       "258              The Less I Know The Better      Tame Impala          78   \n",
       "259                              Dandelions          Ruth B.          75   \n",
       "260           Jimmy Cooks (feat. 21 Savage)            Drake          95   \n",
       "261                            Good Looking  Suki Waterhouse          64   \n",
       "262                                 INFERNO        Sub Urban          67   \n",
       "\n",
       "                          album  track_pop  danceability  energy  loudness  \\\n",
       "0                Hounds Of Love         95         0.629   0.547   -13.123   \n",
       "1                     As It Was         96         0.520   0.731    -5.338   \n",
       "2                       Sunroof         44         0.768   0.716    -5.110   \n",
       "3    Dreamland (+ Bonus Levels)         89         0.761   0.525    -6.900   \n",
       "4               About Damn Time         92         0.836   0.743    -6.305   \n",
       "258                    Currents         84         0.640   0.740    -4.083   \n",
       "259                  Safe Haven         90         0.609   0.692    -2.958   \n",
       "260         Honestly, Nevermind         92         0.529   0.673    -4.711   \n",
       "261                Good Looking         80         0.377   0.558    -9.076   \n",
       "262                     INFERNO         71         0.820   0.611    -5.020   \n",
       "\n",
       "     mode  key  speechiness  acousticness  instrumentalness  liveness  \\\n",
       "0       0   10       0.0550      0.720000          0.003140    0.0604   \n",
       "1       0    6       0.0557      0.342000          0.001010    0.3110   \n",
       "2       1   10       0.0404      0.350000          0.000000    0.1500   \n",
       "3       1   11       0.0944      0.440000          0.000007    0.0921   \n",
       "4       0   10       0.0656      0.099500          0.000000    0.3350   \n",
       "258     1    4       0.0284      0.011500          0.006780    0.1670   \n",
       "259     1    1       0.0259      0.015700          0.000000    0.0864   \n",
       "260     1    0       0.1750      0.000307          0.000002    0.0930   \n",
       "261     1    4       0.0299      0.078900          0.000342    0.1250   \n",
       "262     0    9       0.1220      0.076600          0.000025    0.0684   \n",
       "\n",
       "     valence    tempo  time_signature  duration_ms  \n",
       "0      0.197  108.375               4       298933  \n",
       "1      0.662  173.930               4       167303  \n",
       "2      0.841  131.430               4       163026  \n",
       "3      0.531   80.870               4       238805  \n",
       "4      0.722  108.966               4       191822  \n",
       "258    0.785  116.879               4       216320  \n",
       "259    0.454  116.959               3       233720  \n",
       "260    0.366  165.921               4       218365  \n",
       "261    0.267  149.971               3       214800  \n",
       "262    0.637  127.883               4       133134  "
      ]
     },
     "execution_count": 3,
     "metadata": {},
     "output_type": "execute_result"
    }
   ],
   "source": [
    "data.head(5).append(data.tail(5))"
   ]
  },
  {
   "cell_type": "code",
   "execution_count": 4,
   "id": "16b23a08",
   "metadata": {},
   "outputs": [],
   "source": [
    "X = data['artist_pop']\n",
    "y = data['track_pop']"
   ]
  },
  {
   "cell_type": "code",
   "execution_count": 5,
   "id": "1c9c65b2",
   "metadata": {},
   "outputs": [
    {
     "data": {
      "text/plain": [
       "<matplotlib.collections.PathCollection at 0x1a656b31550>"
      ]
     },
     "execution_count": 5,
     "metadata": {},
     "output_type": "execute_result"
    },
    {
     "data": {
      "image/png": "[encoded data removed]",
      "text/plain": [
       "<Figure size 432x288 with 1 Axes>"
      ]
     },
     "metadata": {
      "needs_background": "light"
     },
     "output_type": "display_data"
    }
   ],
   "source": [
    "plt.scatter(X, y)"
   ]
  },
  {
   "cell_type": "code",
   "execution_count": 6,
   "id": "442bc5a4",
   "metadata": {},
   "outputs": [
    {
     "data": {
      "text/plain": [
       "<seaborn.axisgrid.FacetGrid at 0x1a657281460>"
      ]
     },
     "execution_count": 6,
     "metadata": {},
     "output_type": "execute_result"
    },
    {
     "data": {
      "image/png": "[encoded data removed]",
      "text/plain": [
       "<Figure size 360x360 with 1 Axes>"
      ]
     },
     "metadata": {
      "needs_background": "light"
     },
     "output_type": "display_data"
    }
   ],
   "source": [
    "sns.lmplot(x='artist_pop', y='track_pop', data=data)"
   ]
  },
  {
   "cell_type": "code",
   "execution_count": 7,
   "id": "f09aace3",
   "metadata": {},
   "outputs": [],
   "source": [
    "num_cols = [col for col in data.select_dtypes(exclude='object')]"
   ]
  },
  {
   "cell_type": "code",
   "execution_count": 8,
   "id": "b3d7d24a",
   "metadata": {},
   "outputs": [],
   "source": [
    "X = data[num_cols].copy()\n",
    "X.drop('track_pop', axis=1, inplace=True)\n",
    "y = data['track_pop']"
   ]
  },
  {
   "cell_type": "code",
   "execution_count": 9,
   "id": "9e769754",
   "metadata": {},
   "outputs": [],
   "source": [
    "model = LinearRegression().fit(X, y)"
   ]
  },
  {
   "cell_type": "code",
   "execution_count": 10,
   "id": "98616df0",
   "metadata": {},
   "outputs": [
    {
     "data": {
      "text/plain": [
       "array([ 6.89920222e-01, -2.13397350e+01,  9.40743151e+00,  4.11698107e-01,\n",
       "        4.64847050e-02, -9.39153974e-01, -7.12167219e+00,  4.66850521e+00,\n",
       "       -8.87491093e+00, -8.11324096e+00,  5.96460191e+00, -1.28524560e-02,\n",
       "        7.20128823e+00,  1.72021637e-05])"
      ]
     },
     "execution_count": 10,
     "metadata": {},
     "output_type": "execute_result"
    }
   ],
   "source": [
    "model.coef_"
   ]
  },
  {
   "cell_type": "code",
   "execution_count": 11,
   "id": "d0347535",
   "metadata": {},
   "outputs": [
    {
     "data": {
      "text/plain": [
       "0.32219857204533386"
      ]
     },
     "execution_count": 11,
     "metadata": {},
     "output_type": "execute_result"
    }
   ],
   "source": [
    "model.score(X, y)"
   ]
  },
  {
   "cell_type": "code",
   "execution_count": 12,
   "id": "1433257b",
   "metadata": {},
   "outputs": [],
   "source": [
    "X = np.asarray(data['artist_pop'])\n",
    "y = data['track_pop']"
   ]
  },
  {
   "cell_type": "code",
   "execution_count": 13,
   "id": "0418b56f",
   "metadata": {},
   "outputs": [],
   "source": [
    "model = LinearRegression().fit(X.reshape(-1, 1), y)"
   ]
  },
  {
   "cell_type": "code",
   "execution_count": 14,
   "id": "8a65ed4e",
   "metadata": {},
   "outputs": [
    {
     "data": {
      "text/plain": [
       "array([0.72772484])"
      ]
     },
     "execution_count": 14,
     "metadata": {},
     "output_type": "execute_result"
    }
   ],
   "source": [
    "model.coef_"
   ]
  },
  {
   "cell_type": "code",
   "execution_count": 15,
   "id": "aec7b26c",
   "metadata": {},
   "outputs": [
    {
     "data": {
      "text/plain": [
       "0.2795428557863665"
      ]
     },
     "execution_count": 15,
     "metadata": {},
     "output_type": "execute_result"
    }
   ],
   "source": [
    "model.score(X.reshape(-1, 1), y)"
   ]
  },
  {
   "cell_type": "code",
   "execution_count": 16,
   "id": "f8ea827d",
   "metadata": {},
   "outputs": [
    {
     "data": {
      "text/plain": [
       "<AxesSubplot:>"
      ]
     },
     "execution_count": 16,
     "metadata": {},
     "output_type": "execute_result"
    },
    {
     "data": {
      "image/png": "[encoded data removed]",
      "text/plain": [
       "<Figure size 432x288 with 2 Axes>"
      ]
     },
     "metadata": {
      "needs_background": "light"
     },
     "output_type": "display_data"
    }
   ],
   "source": [
    "sns.heatmap(data[num_cols].corr(), vmin = -1, vmax = +1, cmap = 'coolwarm')"
   ]
  },
  {
   "cell_type": "code",
   "execution_count": 17,
   "id": "86c4ba5a",
   "metadata": {},
   "outputs": [],
   "source": [
    "X = data[['artist_pop', 'duration_ms']]\n",
    "y = data['track_pop']"
   ]
  },
  {
   "cell_type": "code",
   "execution_count": 18,
   "id": "c055eacb",
   "metadata": {},
   "outputs": [],
   "source": [
    "model = LinearRegression().fit(X, y)"
   ]
  },
  {
   "cell_type": "code",
   "execution_count": 19,
   "id": "84194806",
   "metadata": {},
   "outputs": [
    {
     "data": {
      "text/plain": [
       "array([7.13043064e-01, 2.01328676e-05])"
      ]
     },
     "execution_count": 19,
     "metadata": {},
     "output_type": "execute_result"
    }
   ],
   "source": [
    "model.coef_"
   ]
  },
  {
   "cell_type": "code",
   "execution_count": 20,
   "id": "c099b92d",
   "metadata": {},
   "outputs": [
    {
     "data": {
      "text/plain": [
       "0.28021527693610204"
      ]
     },
     "execution_count": 20,
     "metadata": {},
     "output_type": "execute_result"
    }
   ],
   "source": [
    "model.score(X, y)"
   ]
  },
  {
   "cell_type": "code",
   "execution_count": 21,
   "id": "d6ae2729",
   "metadata": {},
   "outputs": [
    {
     "data": {
      "text/html": [
       "<div>\n",
       "<style scoped>\n",
       "    .dataframe tbody tr th:only-of-type {\n",
       "        vertical-align: middle;\n",
       "    }\n",
       "\n",
       "    .dataframe tbody tr th {\n",
       "        vertical-align: top;\n",
       "    }\n",
       "\n",
       "    .dataframe thead th {\n",
       "        text-align: right;\n",
       "    }\n",
       "</style>\n",
       "<table border=\"1\" class=\"dataframe\">\n",
       "  <thead>\n",
       "    <tr style=\"text-align: right;\">\n",
       "      <th></th>\n",
       "      <th>artist_pop</th>\n",
       "      <th>track_pop</th>\n",
       "      <th>danceability</th>\n",
       "      <th>energy</th>\n",
       "      <th>loudness</th>\n",
       "      <th>mode</th>\n",
       "      <th>key</th>\n",
       "      <th>speechiness</th>\n",
       "      <th>acousticness</th>\n",
       "      <th>instrumentalness</th>\n",
       "      <th>liveness</th>\n",
       "      <th>valence</th>\n",
       "      <th>tempo</th>\n",
       "      <th>time_signature</th>\n",
       "      <th>duration_ms</th>\n",
       "    </tr>\n",
       "  </thead>\n",
       "  <tbody>\n",
       "    <tr>\n",
       "      <th>count</th>\n",
       "      <td>263.000000</td>\n",
       "      <td>263.000000</td>\n",
       "      <td>263.000000</td>\n",
       "      <td>263.000000</td>\n",
       "      <td>263.000000</td>\n",
       "      <td>263.000000</td>\n",
       "      <td>263.000000</td>\n",
       "      <td>263.000000</td>\n",
       "      <td>263.000000</td>\n",
       "      <td>263.000000</td>\n",
       "      <td>263.000000</td>\n",
       "      <td>263.000000</td>\n",
       "      <td>263.000000</td>\n",
       "      <td>263.000000</td>\n",
       "      <td>263.000000</td>\n",
       "    </tr>\n",
       "    <tr>\n",
       "      <th>mean</th>\n",
       "      <td>64.186312</td>\n",
       "      <td>59.844106</td>\n",
       "      <td>0.715338</td>\n",
       "      <td>0.682631</td>\n",
       "      <td>-6.300513</td>\n",
       "      <td>0.536122</td>\n",
       "      <td>5.809886</td>\n",
       "      <td>0.117268</td>\n",
       "      <td>0.193188</td>\n",
       "      <td>0.020244</td>\n",
       "      <td>0.202562</td>\n",
       "      <td>0.506149</td>\n",
       "      <td>122.883696</td>\n",
       "      <td>3.969582</td>\n",
       "      <td>174656.212928</td>\n",
       "    </tr>\n",
       "    <tr>\n",
       "      <th>std</th>\n",
       "      <td>18.146338</td>\n",
       "      <td>24.976524</td>\n",
       "      <td>0.117722</td>\n",
       "      <td>0.141756</td>\n",
       "      <td>1.905114</td>\n",
       "      <td>0.499644</td>\n",
       "      <td>3.657312</td>\n",
       "      <td>0.101417</td>\n",
       "      <td>0.214588</td>\n",
       "      <td>0.109370</td>\n",
       "      <td>0.151808</td>\n",
       "      <td>0.220757</td>\n",
       "      <td>24.396686</td>\n",
       "      <td>0.288168</td>\n",
       "      <td>34785.125564</td>\n",
       "    </tr>\n",
       "    <tr>\n",
       "      <th>min</th>\n",
       "      <td>18.000000</td>\n",
       "      <td>0.000000</td>\n",
       "      <td>0.308000</td>\n",
       "      <td>0.214000</td>\n",
       "      <td>-13.468000</td>\n",
       "      <td>0.000000</td>\n",
       "      <td>0.000000</td>\n",
       "      <td>0.025200</td>\n",
       "      <td>0.000038</td>\n",
       "      <td>0.000000</td>\n",
       "      <td>0.026500</td>\n",
       "      <td>0.036300</td>\n",
       "      <td>62.948000</td>\n",
       "      <td>1.000000</td>\n",
       "      <td>85742.000000</td>\n",
       "    </tr>\n",
       "    <tr>\n",
       "      <th>25%</th>\n",
       "      <td>50.000000</td>\n",
       "      <td>47.000000</td>\n",
       "      <td>0.646000</td>\n",
       "      <td>0.593000</td>\n",
       "      <td>-7.423500</td>\n",
       "      <td>0.000000</td>\n",
       "      <td>2.000000</td>\n",
       "      <td>0.044750</td>\n",
       "      <td>0.028100</td>\n",
       "      <td>0.000000</td>\n",
       "      <td>0.094350</td>\n",
       "      <td>0.349000</td>\n",
       "      <td>106.850500</td>\n",
       "      <td>4.000000</td>\n",
       "      <td>148646.000000</td>\n",
       "    </tr>\n",
       "    <tr>\n",
       "      <th>50%</th>\n",
       "      <td>64.000000</td>\n",
       "      <td>66.000000</td>\n",
       "      <td>0.726000</td>\n",
       "      <td>0.701000</td>\n",
       "      <td>-6.067000</td>\n",
       "      <td>1.000000</td>\n",
       "      <td>6.000000</td>\n",
       "      <td>0.070700</td>\n",
       "      <td>0.120000</td>\n",
       "      <td>0.000003</td>\n",
       "      <td>0.132000</td>\n",
       "      <td>0.485000</td>\n",
       "      <td>123.056000</td>\n",
       "      <td>4.000000</td>\n",
       "      <td>171028.000000</td>\n",
       "    </tr>\n",
       "    <tr>\n",
       "      <th>75%</th>\n",
       "      <td>81.000000</td>\n",
       "      <td>79.500000</td>\n",
       "      <td>0.796500</td>\n",
       "      <td>0.790500</td>\n",
       "      <td>-4.887000</td>\n",
       "      <td>1.000000</td>\n",
       "      <td>9.000000</td>\n",
       "      <td>0.156000</td>\n",
       "      <td>0.298500</td>\n",
       "      <td>0.000334</td>\n",
       "      <td>0.277500</td>\n",
       "      <td>0.680000</td>\n",
       "      <td>130.004500</td>\n",
       "      <td>4.000000</td>\n",
       "      <td>199047.000000</td>\n",
       "    </tr>\n",
       "    <tr>\n",
       "      <th>max</th>\n",
       "      <td>95.000000</td>\n",
       "      <td>97.000000</td>\n",
       "      <td>0.961000</td>\n",
       "      <td>0.955000</td>\n",
       "      <td>-2.634000</td>\n",
       "      <td>1.000000</td>\n",
       "      <td>11.000000</td>\n",
       "      <td>0.481000</td>\n",
       "      <td>0.965000</td>\n",
       "      <td>0.939000</td>\n",
       "      <td>0.790000</td>\n",
       "      <td>0.956000</td>\n",
       "      <td>187.906000</td>\n",
       "      <td>5.000000</td>\n",
       "      <td>298933.000000</td>\n",
       "    </tr>\n",
       "  </tbody>\n",
       "</table>\n",
       "</div>"
      ],
      "text/plain": [
       "       artist_pop   track_pop  danceability      energy    loudness  \\\n",
       "count  263.000000  263.000000    263.000000  263.000000  263.000000   \n",
       "mean    64.186312   59.844106      0.715338    0.682631   -6.300513   \n",
       "std     18.146338   24.976524      0.117722    0.141756    1.905114   \n",
       "min     18.000000    0.000000      0.308000    0.214000  -13.468000   \n",
       "25%     50.000000   47.000000      0.646000    0.593000   -7.423500   \n",
       "50%     64.000000   66.000000      0.726000    0.701000   -6.067000   \n",
       "75%     81.000000   79.500000      0.796500    0.790500   -4.887000   \n",
       "max     95.000000   97.000000      0.961000    0.955000   -2.634000   \n",
       "\n",
       "             mode         key  speechiness  acousticness  instrumentalness  \\\n",
       "count  263.000000  263.000000   263.000000    263.000000        263.000000   \n",
       "mean     0.536122    5.809886     0.117268      0.193188          0.020244   \n",
       "std      0.499644    3.657312     0.101417      0.214588          0.109370   \n",
       "min      0.000000    0.000000     0.025200      0.000038          0.000000   \n",
       "25%      0.000000    2.000000     0.044750      0.028100          0.000000   \n",
       "50%      1.000000    6.000000     0.070700      0.120000          0.000003   \n",
       "75%      1.000000    9.000000     0.156000      0.298500          0.000334   \n",
       "max      1.000000   11.000000     0.481000      0.965000          0.939000   \n",
       "\n",
       "         liveness     valence       tempo  time_signature    duration_ms  \n",
       "count  263.000000  263.000000  263.000000      263.000000     263.000000  \n",
       "mean     0.202562    0.506149  122.883696        3.969582  174656.212928  \n",
       "std      0.151808    0.220757   24.396686        0.288168   34785.125564  \n",
       "min      0.026500    0.036300   62.948000        1.000000   85742.000000  \n",
       "25%      0.094350    0.349000  106.850500        4.000000  148646.000000  \n",
       "50%      0.132000    0.485000  123.056000        4.000000  171028.000000  \n",
       "75%      0.277500    0.680000  130.004500        4.000000  199047.000000  \n",
       "max      0.790000    0.956000  187.906000        5.000000  298933.000000  "
      ]
     },
     "execution_count": 21,
     "metadata": {},
     "output_type": "execute_result"
    }
   ],
   "source": [
    "data.describe()"
   ]
  },
  {
   "cell_type": "code",
   "execution_count": 22,
   "id": "f0783f49",
   "metadata": {},
   "outputs": [],
   "source": [
    "data_v1 = data[data['track_pop'] > 29]\n",
    "X = np.asarray(data_v1['artist_pop']).reshape(-1, 1)\n",
    "y = data_v1['track_pop']"
   ]
  },
  {
   "cell_type": "code",
   "execution_count": 23,
   "id": "3846c094",
   "metadata": {},
   "outputs": [],
   "source": [
    "model = LinearRegression().fit(X, y)"
   ]
  },
  {
   "cell_type": "code",
   "execution_count": 24,
   "id": "bc41bb88",
   "metadata": {},
   "outputs": [
    {
     "data": {
      "text/plain": [
       "array([0.7532509])"
      ]
     },
     "execution_count": 24,
     "metadata": {},
     "output_type": "execute_result"
    }
   ],
   "source": [
    "model.coef_"
   ]
  },
  {
   "cell_type": "code",
   "execution_count": 25,
   "id": "85d6e80e",
   "metadata": {},
   "outputs": [
    {
     "data": {
      "text/plain": [
       "0.6521285056170958"
      ]
     },
     "execution_count": 25,
     "metadata": {},
     "output_type": "execute_result"
    }
   ],
   "source": [
    "model.score(X, y)"
   ]
  },
  {
   "cell_type": "code",
   "execution_count": 26,
   "id": "d8a6068f",
   "metadata": {},
   "outputs": [
    {
     "data": {
      "text/plain": [
       "<seaborn.axisgrid.FacetGrid at 0x1a6572812e0>"
      ]
     },
     "execution_count": 26,
     "metadata": {},
     "output_type": "execute_result"
    },
    {
     "data": {
      "image/png": "[encoded data removed]",
      "text/plain": [
       "<Figure size 360x360 with 1 Axes>"
      ]
     },
     "metadata": {
      "needs_background": "light"
     },
     "output_type": "display_data"
    }
   ],
   "source": [
    "sns.lmplot(x='artist_pop', y='track_pop', data=data_v1)"
   ]
  },
  {
   "cell_type": "code",
   "execution_count": 27,
   "id": "22d92050",
   "metadata": {},
   "outputs": [
    {
     "data": {
      "text/plain": [
       "<AxesSubplot:>"
      ]
     },
     "execution_count": 27,
     "metadata": {},
     "output_type": "execute_result"
    },
    {
     "data": {
      "image/png": "[encoded data removed]",
      "text/plain": [
       "<Figure size 432x288 with 2 Axes>"
      ]
     },
     "metadata": {
      "needs_background": "light"
     },
     "output_type": "display_data"
    }
   ],
   "source": [
    "sns.heatmap(data_v1[num_cols].corr(), vmin = -1, vmax = +1, cmap = 'coolwarm')"
   ]
  },
  {
   "cell_type": "code",
   "execution_count": 28,
   "id": "757c2114",
   "metadata": {},
   "outputs": [
    {
     "data": {
      "text/html": [
       "<div>\n",
       "<style scoped>\n",
       "    .dataframe tbody tr th:only-of-type {\n",
       "        vertical-align: middle;\n",
       "    }\n",
       "\n",
       "    .dataframe tbody tr th {\n",
       "        vertical-align: top;\n",
       "    }\n",
       "\n",
       "    .dataframe thead th {\n",
       "        text-align: right;\n",
       "    }\n",
       "</style>\n",
       "<table border=\"1\" class=\"dataframe\">\n",
       "  <thead>\n",
       "    <tr style=\"text-align: right;\">\n",
       "      <th></th>\n",
       "      <th>artist_pop</th>\n",
       "      <th>track_pop</th>\n",
       "      <th>danceability</th>\n",
       "      <th>energy</th>\n",
       "      <th>loudness</th>\n",
       "      <th>mode</th>\n",
       "      <th>key</th>\n",
       "      <th>speechiness</th>\n",
       "      <th>acousticness</th>\n",
       "      <th>instrumentalness</th>\n",
       "      <th>liveness</th>\n",
       "      <th>valence</th>\n",
       "      <th>tempo</th>\n",
       "      <th>time_signature</th>\n",
       "      <th>duration_ms</th>\n",
       "    </tr>\n",
       "  </thead>\n",
       "  <tbody>\n",
       "    <tr>\n",
       "      <th>artist_pop</th>\n",
       "      <td>1.000000</td>\n",
       "      <td>0.807545</td>\n",
       "      <td>0.025187</td>\n",
       "      <td>-0.216590</td>\n",
       "      <td>0.101740</td>\n",
       "      <td>0.027727</td>\n",
       "      <td>-0.027599</td>\n",
       "      <td>-0.033717</td>\n",
       "      <td>0.073100</td>\n",
       "      <td>-0.054756</td>\n",
       "      <td>-0.226010</td>\n",
       "      <td>0.160430</td>\n",
       "      <td>-0.090725</td>\n",
       "      <td>-0.000425</td>\n",
       "      <td>0.379972</td>\n",
       "    </tr>\n",
       "    <tr>\n",
       "      <th>track_pop</th>\n",
       "      <td>0.807545</td>\n",
       "      <td>1.000000</td>\n",
       "      <td>-0.064016</td>\n",
       "      <td>-0.265722</td>\n",
       "      <td>0.028930</td>\n",
       "      <td>-0.018920</td>\n",
       "      <td>-0.117666</td>\n",
       "      <td>-0.100431</td>\n",
       "      <td>0.108871</td>\n",
       "      <td>0.001293</td>\n",
       "      <td>-0.209075</td>\n",
       "      <td>0.119015</td>\n",
       "      <td>-0.065148</td>\n",
       "      <td>-0.028004</td>\n",
       "      <td>0.334156</td>\n",
       "    </tr>\n",
       "    <tr>\n",
       "      <th>danceability</th>\n",
       "      <td>0.025187</td>\n",
       "      <td>-0.064016</td>\n",
       "      <td>1.000000</td>\n",
       "      <td>-0.114722</td>\n",
       "      <td>0.113455</td>\n",
       "      <td>-0.022740</td>\n",
       "      <td>0.058470</td>\n",
       "      <td>0.211776</td>\n",
       "      <td>-0.012056</td>\n",
       "      <td>-0.125105</td>\n",
       "      <td>-0.178253</td>\n",
       "      <td>0.372649</td>\n",
       "      <td>-0.280254</td>\n",
       "      <td>0.153480</td>\n",
       "      <td>-0.125004</td>\n",
       "    </tr>\n",
       "    <tr>\n",
       "      <th>energy</th>\n",
       "      <td>-0.216590</td>\n",
       "      <td>-0.265722</td>\n",
       "      <td>-0.114722</td>\n",
       "      <td>1.000000</td>\n",
       "      <td>0.546673</td>\n",
       "      <td>-0.122227</td>\n",
       "      <td>0.142934</td>\n",
       "      <td>-0.073382</td>\n",
       "      <td>-0.461785</td>\n",
       "      <td>0.114722</td>\n",
       "      <td>0.126444</td>\n",
       "      <td>0.005799</td>\n",
       "      <td>0.066335</td>\n",
       "      <td>0.041106</td>\n",
       "      <td>-0.132099</td>\n",
       "    </tr>\n",
       "    <tr>\n",
       "      <th>loudness</th>\n",
       "      <td>0.101740</td>\n",
       "      <td>0.028930</td>\n",
       "      <td>0.113455</td>\n",
       "      <td>0.546673</td>\n",
       "      <td>1.000000</td>\n",
       "      <td>-0.056595</td>\n",
       "      <td>0.103383</td>\n",
       "      <td>-0.032035</td>\n",
       "      <td>-0.352341</td>\n",
       "      <td>-0.085931</td>\n",
       "      <td>0.040996</td>\n",
       "      <td>0.151900</td>\n",
       "      <td>0.005204</td>\n",
       "      <td>-0.009212</td>\n",
       "      <td>-0.007038</td>\n",
       "    </tr>\n",
       "    <tr>\n",
       "      <th>mode</th>\n",
       "      <td>0.027727</td>\n",
       "      <td>-0.018920</td>\n",
       "      <td>-0.022740</td>\n",
       "      <td>-0.122227</td>\n",
       "      <td>-0.056595</td>\n",
       "      <td>1.000000</td>\n",
       "      <td>0.005046</td>\n",
       "      <td>-0.004937</td>\n",
       "      <td>-0.007322</td>\n",
       "      <td>0.059618</td>\n",
       "      <td>-0.059482</td>\n",
       "      <td>-0.045411</td>\n",
       "      <td>-0.044835</td>\n",
       "      <td>-0.083764</td>\n",
       "      <td>-0.053187</td>\n",
       "    </tr>\n",
       "    <tr>\n",
       "      <th>key</th>\n",
       "      <td>-0.027599</td>\n",
       "      <td>-0.117666</td>\n",
       "      <td>0.058470</td>\n",
       "      <td>0.142934</td>\n",
       "      <td>0.103383</td>\n",
       "      <td>0.005046</td>\n",
       "      <td>1.000000</td>\n",
       "      <td>0.068875</td>\n",
       "      <td>0.012324</td>\n",
       "      <td>0.055360</td>\n",
       "      <td>-0.019175</td>\n",
       "      <td>0.025993</td>\n",
       "      <td>0.070151</td>\n",
       "      <td>0.011669</td>\n",
       "      <td>-0.002076</td>\n",
       "    </tr>\n",
       "    <tr>\n",
       "      <th>speechiness</th>\n",
       "      <td>-0.033717</td>\n",
       "      <td>-0.100431</td>\n",
       "      <td>0.211776</td>\n",
       "      <td>-0.073382</td>\n",
       "      <td>-0.032035</td>\n",
       "      <td>-0.004937</td>\n",
       "      <td>0.068875</td>\n",
       "      <td>1.000000</td>\n",
       "      <td>0.029027</td>\n",
       "      <td>-0.092154</td>\n",
       "      <td>0.037175</td>\n",
       "      <td>0.009731</td>\n",
       "      <td>0.114698</td>\n",
       "      <td>0.138891</td>\n",
       "      <td>-0.162677</td>\n",
       "    </tr>\n",
       "    <tr>\n",
       "      <th>acousticness</th>\n",
       "      <td>0.073100</td>\n",
       "      <td>0.108871</td>\n",
       "      <td>-0.012056</td>\n",
       "      <td>-0.461785</td>\n",
       "      <td>-0.352341</td>\n",
       "      <td>-0.007322</td>\n",
       "      <td>0.012324</td>\n",
       "      <td>0.029027</td>\n",
       "      <td>1.000000</td>\n",
       "      <td>0.079261</td>\n",
       "      <td>0.047400</td>\n",
       "      <td>-0.068987</td>\n",
       "      <td>-0.121662</td>\n",
       "      <td>-0.013998</td>\n",
       "      <td>0.051043</td>\n",
       "    </tr>\n",
       "    <tr>\n",
       "      <th>instrumentalness</th>\n",
       "      <td>-0.054756</td>\n",
       "      <td>0.001293</td>\n",
       "      <td>-0.125105</td>\n",
       "      <td>0.114722</td>\n",
       "      <td>-0.085931</td>\n",
       "      <td>0.059618</td>\n",
       "      <td>0.055360</td>\n",
       "      <td>-0.092154</td>\n",
       "      <td>0.079261</td>\n",
       "      <td>1.000000</td>\n",
       "      <td>-0.009074</td>\n",
       "      <td>-0.008924</td>\n",
       "      <td>-0.000404</td>\n",
       "      <td>0.016074</td>\n",
       "      <td>-0.080597</td>\n",
       "    </tr>\n",
       "    <tr>\n",
       "      <th>liveness</th>\n",
       "      <td>-0.226010</td>\n",
       "      <td>-0.209075</td>\n",
       "      <td>-0.178253</td>\n",
       "      <td>0.126444</td>\n",
       "      <td>0.040996</td>\n",
       "      <td>-0.059482</td>\n",
       "      <td>-0.019175</td>\n",
       "      <td>0.037175</td>\n",
       "      <td>0.047400</td>\n",
       "      <td>-0.009074</td>\n",
       "      <td>1.000000</td>\n",
       "      <td>-0.105908</td>\n",
       "      <td>0.048662</td>\n",
       "      <td>0.071559</td>\n",
       "      <td>-0.075060</td>\n",
       "    </tr>\n",
       "    <tr>\n",
       "      <th>valence</th>\n",
       "      <td>0.160430</td>\n",
       "      <td>0.119015</td>\n",
       "      <td>0.372649</td>\n",
       "      <td>0.005799</td>\n",
       "      <td>0.151900</td>\n",
       "      <td>-0.045411</td>\n",
       "      <td>0.025993</td>\n",
       "      <td>0.009731</td>\n",
       "      <td>-0.068987</td>\n",
       "      <td>-0.008924</td>\n",
       "      <td>-0.105908</td>\n",
       "      <td>1.000000</td>\n",
       "      <td>-0.072418</td>\n",
       "      <td>0.113177</td>\n",
       "      <td>0.093254</td>\n",
       "    </tr>\n",
       "    <tr>\n",
       "      <th>tempo</th>\n",
       "      <td>-0.090725</td>\n",
       "      <td>-0.065148</td>\n",
       "      <td>-0.280254</td>\n",
       "      <td>0.066335</td>\n",
       "      <td>0.005204</td>\n",
       "      <td>-0.044835</td>\n",
       "      <td>0.070151</td>\n",
       "      <td>0.114698</td>\n",
       "      <td>-0.121662</td>\n",
       "      <td>-0.000404</td>\n",
       "      <td>0.048662</td>\n",
       "      <td>-0.072418</td>\n",
       "      <td>1.000000</td>\n",
       "      <td>-0.199298</td>\n",
       "      <td>-0.005784</td>\n",
       "    </tr>\n",
       "    <tr>\n",
       "      <th>time_signature</th>\n",
       "      <td>-0.000425</td>\n",
       "      <td>-0.028004</td>\n",
       "      <td>0.153480</td>\n",
       "      <td>0.041106</td>\n",
       "      <td>-0.009212</td>\n",
       "      <td>-0.083764</td>\n",
       "      <td>0.011669</td>\n",
       "      <td>0.138891</td>\n",
       "      <td>-0.013998</td>\n",
       "      <td>0.016074</td>\n",
       "      <td>0.071559</td>\n",
       "      <td>0.113177</td>\n",
       "      <td>-0.199298</td>\n",
       "      <td>1.000000</td>\n",
       "      <td>-0.161059</td>\n",
       "    </tr>\n",
       "    <tr>\n",
       "      <th>duration_ms</th>\n",
       "      <td>0.379972</td>\n",
       "      <td>0.334156</td>\n",
       "      <td>-0.125004</td>\n",
       "      <td>-0.132099</td>\n",
       "      <td>-0.007038</td>\n",
       "      <td>-0.053187</td>\n",
       "      <td>-0.002076</td>\n",
       "      <td>-0.162677</td>\n",
       "      <td>0.051043</td>\n",
       "      <td>-0.080597</td>\n",
       "      <td>-0.075060</td>\n",
       "      <td>0.093254</td>\n",
       "      <td>-0.005784</td>\n",
       "      <td>-0.161059</td>\n",
       "      <td>1.000000</td>\n",
       "    </tr>\n",
       "  </tbody>\n",
       "</table>\n",
       "</div>"
      ],
      "text/plain": [
       "                  artist_pop  track_pop  danceability    energy  loudness  \\\n",
       "artist_pop          1.000000   0.807545      0.025187 -0.216590  0.101740   \n",
       "track_pop           0.807545   1.000000     -0.064016 -0.265722  0.028930   \n",
       "danceability        0.025187  -0.064016      1.000000 -0.114722  0.113455   \n",
       "energy             -0.216590  -0.265722     -0.114722  1.000000  0.546673   \n",
       "loudness            0.101740   0.028930      0.113455  0.546673  1.000000   \n",
       "mode                0.027727  -0.018920     -0.022740 -0.122227 -0.056595   \n",
       "key                -0.027599  -0.117666      0.058470  0.142934  0.103383   \n",
       "speechiness        -0.033717  -0.100431      0.211776 -0.073382 -0.032035   \n",
       "acousticness        0.073100   0.108871     -0.012056 -0.461785 -0.352341   \n",
       "instrumentalness   -0.054756   0.001293     -0.125105  0.114722 -0.085931   \n",
       "liveness           -0.226010  -0.209075     -0.178253  0.126444  0.040996   \n",
       "valence             0.160430   0.119015      0.372649  0.005799  0.151900   \n",
       "tempo              -0.090725  -0.065148     -0.280254  0.066335  0.005204   \n",
       "time_signature     -0.000425  -0.028004      0.153480  0.041106 -0.009212   \n",
       "duration_ms         0.379972   0.334156     -0.125004 -0.132099 -0.007038   \n",
       "\n",
       "                      mode       key  speechiness  acousticness  \\\n",
       "artist_pop        0.027727 -0.027599    -0.033717      0.073100   \n",
       "track_pop        -0.018920 -0.117666    -0.100431      0.108871   \n",
       "danceability     -0.022740  0.058470     0.211776     -0.012056   \n",
       "energy           -0.122227  0.142934    -0.073382     -0.461785   \n",
       "loudness         -0.056595  0.103383    -0.032035     -0.352341   \n",
       "mode              1.000000  0.005046    -0.004937     -0.007322   \n",
       "key               0.005046  1.000000     0.068875      0.012324   \n",
       "speechiness      -0.004937  0.068875     1.000000      0.029027   \n",
       "acousticness     -0.007322  0.012324     0.029027      1.000000   \n",
       "instrumentalness  0.059618  0.055360    -0.092154      0.079261   \n",
       "liveness         -0.059482 -0.019175     0.037175      0.047400   \n",
       "valence          -0.045411  0.025993     0.009731     -0.068987   \n",
       "tempo            -0.044835  0.070151     0.114698     -0.121662   \n",
       "time_signature   -0.083764  0.011669     0.138891     -0.013998   \n",
       "duration_ms      -0.053187 -0.002076    -0.162677      0.051043   \n",
       "\n",
       "                  instrumentalness  liveness   valence     tempo  \\\n",
       "artist_pop               -0.054756 -0.226010  0.160430 -0.090725   \n",
       "track_pop                 0.001293 -0.209075  0.119015 -0.065148   \n",
       "danceability             -0.125105 -0.178253  0.372649 -0.280254   \n",
       "energy                    0.114722  0.126444  0.005799  0.066335   \n",
       "loudness                 -0.085931  0.040996  0.151900  0.005204   \n",
       "mode                      0.059618 -0.059482 -0.045411 -0.044835   \n",
       "key                       0.055360 -0.019175  0.025993  0.070151   \n",
       "speechiness              -0.092154  0.037175  0.009731  0.114698   \n",
       "acousticness              0.079261  0.047400 -0.068987 -0.121662   \n",
       "instrumentalness          1.000000 -0.009074 -0.008924 -0.000404   \n",
       "liveness                 -0.009074  1.000000 -0.105908  0.048662   \n",
       "valence                  -0.008924 -0.105908  1.000000 -0.072418   \n",
       "tempo                    -0.000404  0.048662 -0.072418  1.000000   \n",
       "time_signature            0.016074  0.071559  0.113177 -0.199298   \n",
       "duration_ms              -0.080597 -0.075060  0.093254 -0.005784   \n",
       "\n",
       "                  time_signature  duration_ms  \n",
       "artist_pop             -0.000425     0.379972  \n",
       "track_pop              -0.028004     0.334156  \n",
       "danceability            0.153480    -0.125004  \n",
       "energy                  0.041106    -0.132099  \n",
       "loudness               -0.009212    -0.007038  \n",
       "mode                   -0.083764    -0.053187  \n",
       "key                     0.011669    -0.002076  \n",
       "speechiness             0.138891    -0.162677  \n",
       "acousticness           -0.013998     0.051043  \n",
       "instrumentalness        0.016074    -0.080597  \n",
       "liveness                0.071559    -0.075060  \n",
       "valence                 0.113177     0.093254  \n",
       "tempo                  -0.199298    -0.005784  \n",
       "time_signature          1.000000    -0.161059  \n",
       "duration_ms            -0.161059     1.000000  "
      ]
     },
     "execution_count": 28,
     "metadata": {},
     "output_type": "execute_result"
    }
   ],
   "source": [
    "data_v1[num_cols].corr()"
   ]
  },
  {
   "cell_type": "code",
   "execution_count": null,
   "id": "ea74bb8a",
   "metadata": {},
   "outputs": [],
   "source": []
  }
 ],
 "metadata": {
  "kernelspec": {
   "display_name": "Python 3",
   "language": "python",
   "name": "python3"
  },
  "language_info": {
   "codemirror_mode": {
    "name": "ipython",
    "version": 3
   },
   "file_extension": ".py",
   "mimetype": "text/x-python",
   "name": "python",
   "nbconvert_exporter": "python",
   "pygments_lexer": "ipython3",
   "version": "3.8.8"
  }
 },
 "nbformat": 4,
 "nbformat_minor": 5
}
